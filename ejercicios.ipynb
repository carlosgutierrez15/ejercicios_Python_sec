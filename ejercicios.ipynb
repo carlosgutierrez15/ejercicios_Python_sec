{
  "nbformat": 4,
  "nbformat_minor": 0,
  "metadata": {
    "colab": {
      "provenance": [],
      "toc_visible": true,
      "authorship_tag": "ABX9TyNTBzZ1KN1LgZj+yhxGlulx",
      "include_colab_link": true
    },
    "kernelspec": {
      "name": "python3",
      "display_name": "Python 3"
    },
    "language_info": {
      "name": "python"
    }
  },
  "cells": [
    {
      "cell_type": "markdown",
      "metadata": {
        "id": "view-in-github",
        "colab_type": "text"
      },
      "source": [
        "<a href=\"https://colab.research.google.com/github/carlosgutierrez15/ejercicios_Python_sec/blob/main/ejercicios.ipynb\" target=\"_parent\"><img src=\"https://colab.research.google.com/assets/colab-badge.svg\" alt=\"Open In Colab\"/></a>"
      ]
    },
    {
      "cell_type": "code",
      "source": [
        "name = input(\"escriba su nombre\")\n",
        "age = int(input(\"cual es tu edad\"))\n",
        "print(\"hola,\", name )\n",
        "print(\"tienes\", str(age), \"años\")"
      ],
      "metadata": {
        "id": "v6DVvKSYdXyW",
        "outputId": "9a282b85-e281-4dc0-82ae-48a5513770b3",
        "colab": {
          "base_uri": "https://localhost:8080/"
        }
      },
      "execution_count": 1,
      "outputs": [
        {
          "output_type": "stream",
          "name": "stdout",
          "text": [
            "escriba su nombrecarlos gutierrez\n",
            "cual es tu edad18\n",
            "hola, carlos gutierrez\n",
            "tienes 18 años\n"
          ]
        }
      ]
    },
    {
      "cell_type": "markdown",
      "source": [
        "## calcular el area de un rectangulo a partir de su base y altura:\n",
        "A = b * h"
      ],
      "metadata": {
        "id": "j4Mi_7qKeTK3"
      }
    },
    {
      "cell_type": "code",
      "source": [
        "print(\"programa para calcular el area de un rectangulo\")\n",
        "b = float(input(\"ingrese la base(m): \"))\n",
        "h = float(input(\"ingrese la altura(m) \"))\n",
        "a = b * h\n",
        "print(\"el area de un rectangulo con base\", str(b), \"(m) y altura\", str(h), \"(m) es\", str(a), \"m2\" )"
      ],
      "metadata": {
        "id": "mcIe1XXXejzF",
        "outputId": "3d734893-bb6b-4850-ad06-f05699dd3f0f",
        "colab": {
          "base_uri": "https://localhost:8080/"
        }
      },
      "execution_count": 2,
      "outputs": [
        {
          "output_type": "stream",
          "name": "stdout",
          "text": [
            "programa para calcular el area de un rectangulo\n",
            "infrese la base(m): 25\n",
            "ingrese la altura(m) 40\n",
            "el area de un rectangulo con base 25.0 (m) y altura 40.0 (m) es 1000.0 m2\n"
          ]
        }
      ]
    },
    {
      "cell_type": "markdown",
      "source": [
        "## Ejercicio 2: Area de un triangulo\n",
        "calcular el area de un triangulo\n",
        "A = b * h / 2"
      ],
      "metadata": {
        "id": "HAZr0i72fqrY"
      }
    },
    {
      "cell_type": "code",
      "source": [
        "print(\"programa para calcular el area de un triangulo\")\n",
        "b = float(input(\"ingrese la base(m): \"))\n",
        "h = float(input(\"ingrese la altura(m) \"))\n",
        "a = b * h / 2\n",
        "print(\"el area de un triangulo con base\", str(b), \"(m) y altura\", str(h), \"(m) es\", str(a), \"m2\" )"
      ],
      "metadata": {
        "id": "sB868ID2f4XS",
        "outputId": "b18df66e-bfca-4a7d-8c69-567d17a58e18",
        "colab": {
          "base_uri": "https://localhost:8080/"
        }
      },
      "execution_count": 3,
      "outputs": [
        {
          "output_type": "stream",
          "name": "stdout",
          "text": [
            "programa para calcular el area de un triangulo\n",
            "infrese la base(m): 30\n",
            "ingrese la altura(m) 24\n",
            "el area de un triangulo con base 30.0 (m) y altura 24.0 (m) es 360.0 m2\n"
          ]
        }
      ]
    },
    {
      "cell_type": "markdown",
      "source": [
        "## Ejercicio 3: Area de un circulo\n",
        "calcular y mostrar el area de un circulo\n",
        "A = pi * r ** 2"
      ],
      "metadata": {
        "id": "pb1on0y9gjBv"
      }
    },
    {
      "cell_type": "code",
      "source": [
        "import math\n",
        "print(\"programa para calcular el area de un circulo\")\n",
        "r = float(input(\"ingrese el radio (m): \"))\n",
        "\n",
        "A = math.pi * r ** 2\n",
        "print(\"el area del circulo con radio\", str(r), \"(m) es\" , str(A), \"m2\")"
      ],
      "metadata": {
        "id": "-cuk03_rg5En"
      },
      "execution_count": null,
      "outputs": []
    },
    {
      "cell_type": "markdown",
      "source": [
        "## Ejercicio 4: Voltaje Instantaneo\n",
        "calcular y mostrar el voltaje en un instante de tiempo $t$ dada su amplitud, frecuencia y angulo de fase:\n",
        "\n",
        "theta = ang * pi / 180\n",
        "\n",
        "omega = 2 * pi * f\n",
        "\n",
        "v = amp * cos(omega * t + theta)\n",
        "\n",
        "$$\\theta_v = ang\\times \\pi / 180$$\n",
        "$$\n",
        "$$"
      ],
      "metadata": {
        "id": "026XpO9wiXfD"
      }
    },
    {
      "cell_type": "code",
      "source": [
        "import math\n",
        "print(\"programa para calcular el voltaje instantaneo. \")\n",
        "V = float(input(\"ingrese la amplitud (v): \"))\n",
        "f = float(input(\"ingrese la frecuencia (Hz): \"))\n",
        "ang = float(input(\"ingrese el angulo de fase (°): \"))\n",
        "\n",
        "t = float(input(\"ingrese el instante de tiempo (s): \"))\n",
        "\n",
        "omega = 2 * math.pi * f\n",
        "theta = ang * math.pi / 180\n",
        "v_t = V * math.cos(omega * t + theta)\n",
        "\n",
        "print(\"el voltaje instantaneo para los datos ingresados es: \", str(v_t), \"v\")"
      ],
      "metadata": {
        "id": "5Zd3iDX9kRFR",
        "outputId": "cea6c378-30f9-4a11-b3fe-d3072cf5b3b1",
        "colab": {
          "base_uri": "https://localhost:8080/"
        }
      },
      "execution_count": 12,
      "outputs": [
        {
          "output_type": "stream",
          "name": "stdout",
          "text": [
            "programa para calcular el voltaje instantaneo. \n",
            "ingrese la amplitud (v): 208\n",
            "ingrese la frecuencia (Hz): 60\n",
            "ingrese el angulo de fase (°): 30\n",
            "ingrese el instante de tiempo (s): 15\n",
            "el voltaje instantaneo para los datos ingresados es:  180.13328398715777 v\n"
          ]
        }
      ]
    }
  ]
}