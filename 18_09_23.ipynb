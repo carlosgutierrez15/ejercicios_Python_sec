{
  "nbformat": 4,
  "nbformat_minor": 0,
  "metadata": {
    "colab": {
      "provenance": [],
      "authorship_tag": "ABX9TyPE0dyCmpQRJNug3J0eR3dq",
      "include_colab_link": true
    },
    "kernelspec": {
      "name": "python3",
      "display_name": "Python 3"
    },
    "language_info": {
      "name": "python"
    }
  },
  "cells": [
    {
      "cell_type": "markdown",
      "metadata": {
        "id": "view-in-github",
        "colab_type": "text"
      },
      "source": [
        "<a href=\"https://colab.research.google.com/github/carlosgutierrez15/ejercicios_Python_sec/blob/main/18_09_23.ipynb\" target=\"_parent\"><img src=\"https://colab.research.google.com/assets/colab-badge.svg\" alt=\"Open In Colab\"/></a>"
      ]
    },
    {
      "cell_type": "code",
      "execution_count": null,
      "metadata": {
        "colab": {
          "base_uri": "https://localhost:8080/"
        },
        "id": "AC7WRYXvRV1I",
        "outputId": "60ca0a34-6cae-4976-8fea-7dc41d2bccbb"
      },
      "outputs": [
        {
          "output_type": "stream",
          "name": "stdout",
          "text": [
            "ingresa un numero: 5\n",
            "la suma de los numeros pares es:  6\n"
          ]
        }
      ],
      "source": [
        "num = int(input(\"ingresa un numero: \"))\n",
        "i = 1\n",
        "suma = 0\n",
        "while i <= num:\n",
        "  if i % 2 == 0:\n",
        "    suma = suma + i\n",
        "  i = i + 1\n",
        "\n",
        "print(\"la suma de los numeros pares es: \", suma)"
      ]
    },
    {
      "cell_type": "code",
      "source": [
        "num = int(input(\"ingrese un numero: \"))\n",
        "i = 0\n",
        "while i <= 10:\n",
        "\n",
        "  print(num, \" x \", i, \" = \", (num*i))\n",
        "  i = i + 1\n"
      ],
      "metadata": {
        "colab": {
          "base_uri": "https://localhost:8080/"
        },
        "id": "8hC3G8IqTEkX",
        "outputId": "72e2a0c9-bd24-453a-8561-92e3acc0cb39"
      },
      "execution_count": null,
      "outputs": [
        {
          "output_type": "stream",
          "name": "stdout",
          "text": [
            "ingrese un numero: 4\n",
            "4  x  0  =  0\n",
            "4  x  1  =  4\n",
            "4  x  2  =  8\n",
            "4  x  3  =  12\n",
            "4  x  4  =  16\n",
            "4  x  5  =  20\n",
            "4  x  6  =  24\n",
            "4  x  7  =  28\n",
            "4  x  8  =  32\n",
            "4  x  9  =  36\n",
            "4  x  10  =  40\n"
          ]
        }
      ]
    },
    {
      "cell_type": "code",
      "source": [
        "base = int(input(\"Ingresa la base: \"))\n",
        "exp = int(input(\"Ingresa el exponente: \"))\n",
        "\n",
        "resultado = 1\n",
        "i = 0\n",
        "\n",
        "while i < exp:\n",
        "    resultado *= base\n",
        "    i += 1\n",
        "\n",
        "print(\"El resultado de la potencia es:\", resultado)"
      ],
      "metadata": {
        "id": "JkLCBzJ2dQV7",
        "outputId": "00cfde92-7217-4bef-d6dc-a8c574115892",
        "colab": {
          "base_uri": "https://localhost:8080/"
        }
      },
      "execution_count": null,
      "outputs": [
        {
          "output_type": "stream",
          "name": "stdout",
          "text": [
            "Ingresa la base: 4\n",
            "Ingresa el exponente: 2\n",
            "El resultado de la potencia es: 16\n"
          ]
        }
      ]
    },
    {
      "cell_type": "code",
      "source": [
        "\n",
        "suma = 0\n",
        "contador = 0\n",
        "\n",
        "while True:\n",
        "    numero = int(input(\"Ingresa un número (ingresa 0 para terminar): \"))\n",
        "\n",
        "    if numero == 0:\n",
        "        break\n",
        "\n",
        "    suma += numero\n",
        "    contador += 1\n",
        "\n",
        "if contador > 0:\n",
        "    promedio = suma / contador\n",
        "    print(\"El promedio de los números ingresados es:\", promedio)\n",
        "else:\n",
        "    print(\"No se ingresaron números.\")\n"
      ],
      "metadata": {
        "id": "u7M2rjP7raFn",
        "outputId": "d415966a-62c3-4bcf-e36a-c3a904ec37cb",
        "colab": {
          "base_uri": "https://localhost:8080/"
        }
      },
      "execution_count": null,
      "outputs": [
        {
          "output_type": "stream",
          "name": "stdout",
          "text": [
            "Ingresa un número (ingresa 0 para terminar): 4\n",
            "Ingresa un número (ingresa 0 para terminar): 1\n",
            "Ingresa un número (ingresa 0 para terminar): 5\n",
            "Ingresa un número (ingresa 0 para terminar): 7\n",
            "Ingresa un número (ingresa 0 para terminar): 0\n",
            "El promedio de los números ingresados es: 4.25\n"
          ]
        }
      ]
    },
    {
      "cell_type": "code",
      "source": [
        "52\n",
        "\n",
        "suma = 0\n",
        "cont = 0\n",
        "promedio = 0\n",
        "\n",
        "while num == 0:\n",
        "  cont = cont + 1\n",
        "  num = int(input(\"Ingresa un número (ingresa 0 para terminar): \"))\n",
        "  sum = suma + num\n",
        "\n",
        "prom = suma / (cont - 1)\n",
        "print(\"El promedio es:\", promedio)"
      ],
      "metadata": {
        "id": "rP-YPHq3xRoO",
        "outputId": "f80210ce-e5ad-410c-b73e-099bad6552d1",
        "colab": {
          "base_uri": "https://localhost:8080/"
        }
      },
      "execution_count": null,
      "outputs": [
        {
          "output_type": "stream",
          "name": "stdout",
          "text": [
            "El promedio es: 0\n"
          ]
        }
      ]
    },
    {
      "cell_type": "code",
      "source": [
        "import random\n",
        "\n",
        "num = random.randint(0, 10)\n",
        "print(num)\n",
        "\n",
        "numUsuario = 11\n",
        "\n",
        "while num != numUsuario:\n",
        "  numUsuario = int(input(\"ingrese un numero: entre 0 y 10: \"))\n",
        "  if numUsuario > num:\n",
        "    print(\"el numero ingresado esta por encima\")\n",
        "  elif numUsuario < num:\n",
        "    print(\"el numero ingresado esta por debajo\")\n",
        "  else:\n",
        "    print(\"adivinado\")\n",
        "\n"
      ],
      "metadata": {
        "id": "LAJT2LeozSWV",
        "outputId": "03b3a219-d4ad-4c13-cdf9-dee1bc0f5fd9",
        "colab": {
          "base_uri": "https://localhost:8080/"
        }
      },
      "execution_count": null,
      "outputs": [
        {
          "output_type": "stream",
          "name": "stdout",
          "text": [
            "6\n",
            "ingrese un numero: entre 0 y 10: 4\n",
            "el numero ingresado esta por debajo\n",
            "ingrese un numero: entre 0 y 10: 7\n",
            "el numero ingresado esta por encima\n",
            "ingrese un numero: entre 0 y 10: 6\n",
            "adivinado\n"
          ]
        }
      ]
    },
    {
      "cell_type": "code",
      "source": [
        "confirmar = \"SI\"\n",
        "num = 0\n",
        "max = 0\n",
        "min = 0\n",
        "while confirmar == \"SI\":\n",
        "  num = int(input(\"ingrese un numero: \"))\n",
        "  if max < num:\n",
        "    max = num\n",
        "  confirmar = input(\"escriba SI para continuar o NO para finalizar: \")\n",
        "\n",
        "print(\"El numero mayor es: \", max)"
      ],
      "metadata": {
        "id": "UTtVlPXd2ATH",
        "outputId": "85924491-8506-42aa-adb1-363309f90eed",
        "colab": {
          "base_uri": "https://localhost:8080/"
        }
      },
      "execution_count": null,
      "outputs": [
        {
          "output_type": "stream",
          "name": "stdout",
          "text": [
            "ingrese un numero5\n",
            "escriba SI para continuar o NO para finalizar: SI\n",
            "ingrese un numero4\n",
            "escriba SI para continuar o NO para finalizar: SI\n",
            "ingrese un numero3\n",
            "escriba SI para continuar o NO para finalizar: SI\n",
            "ingrese un numero2\n",
            "escriba SI para continuar o NO para finalizar: SI\n",
            "ingrese un numero1\n",
            "escriba SI para continuar o NO para finalizar: NO\n",
            "5\n"
          ]
        }
      ]
    },
    {
      "cell_type": "code",
      "source": [
        "confirmar = \"si\"\n",
        "num = 0\n",
        "max = 0\n",
        "min = 0\n",
        "primernum = True\n",
        "while confirmar == \"si\":\n",
        "  num = int(input(\"ingrese un numero: \"))\n",
        "  if primernum:\n",
        "    max = num\n",
        "    min = num\n",
        "    primernum = False\n",
        "  if max < num:\n",
        "    max = num\n",
        "  confirmar = input(\"escriba si para continuar o no para finalizar: \")\n",
        "  if min > num:\n",
        "    min = num\n",
        "\n",
        "print(\"El numero mayor es: \", max)\n",
        "print(\"El numero menor es: \", min)"
      ],
      "metadata": {
        "id": "aW2JgRHegwRu",
        "outputId": "d1252597-48f1-4218-a09d-c260aa29fb7f",
        "colab": {
          "base_uri": "https://localhost:8080/"
        }
      },
      "execution_count": null,
      "outputs": [
        {
          "output_type": "stream",
          "name": "stdout",
          "text": [
            "ingrese un numero: 5\n",
            "escriba si para continuar o no para finalizar: si\n",
            "ingrese un numero: 4\n",
            "escriba si para continuar o no para finalizar: si\n",
            "ingrese un numero: 3\n",
            "escriba si para continuar o no para finalizar: si\n",
            "ingrese un numero: 2\n",
            "escriba si para continuar o no para finalizar: si\n",
            "ingrese un numero: 1\n",
            "escriba si para continuar o no para finalizar: no\n",
            "El numero mayor es:  5\n",
            "El numero menor es:  1\n"
          ]
        }
      ]
    },
    {
      "cell_type": "code",
      "source": [
        "mi_lista1 = [1, 2, 3, 4, 5]\n",
        "mi_lista2 = [\"H\", \"O\", \"L\", \"A\"]\n",
        "mi_lista3 = [0.5, 2.3, 1.4]\n",
        "mi_lista4 = [1, 2, \"A\", \"B\", 3, 4]\n",
        "mi_lista5 = [mi_lista1, mi_lista2]\n",
        "print(mi_lista1)\n",
        "print(mi_lista2)\n",
        "print(mi_lista3)\n",
        "print(mi_lista4)\n",
        "print(mi_lista5)\n",
        "\n",
        "print(mi_lista1[0])\n",
        "print(mi_lista2[2])\n",
        "print(mi_lista5[1][3])\n",
        "print(mi_lista2[1:4])\n",
        "print(mi_lista5[0][1:4])\n",
        "\n",
        "mi_lista1 = [1, 2]\n",
        "mi_lista1.append(3)\n",
        "mi_lista1.append(4)\n",
        "mi_lista1.append(5)\n",
        "mi_lista1.append(\"A\")\n",
        "mi_lista1.append(\"B\")\n",
        "mi_lista1.append(\"C\")\n",
        "mi_lista1.append(\"D\")\n",
        "mi_lista1.remove(\"A\")\n",
        "mi_lista1.append([0.5, 1.5])\n",
        "print(mi_lista1)"
      ],
      "metadata": {
        "id": "vsTJMWfth-da",
        "outputId": "abb26e42-b6ae-4f0a-86fb-3486516789f3",
        "colab": {
          "base_uri": "https://localhost:8080/"
        }
      },
      "execution_count": 18,
      "outputs": [
        {
          "output_type": "stream",
          "name": "stdout",
          "text": [
            "[1, 2, 3, 4, 5]\n",
            "['H', 'O', 'L', 'A']\n",
            "[0.5, 2.3, 1.4]\n",
            "[1, 2, 'A', 'B', 3, 4]\n",
            "[[1, 2, 3, 4, 5], ['H', 'O', 'L', 'A']]\n",
            "1\n",
            "L\n",
            "A\n",
            "['O', 'L', 'A']\n",
            "[2, 3, 4]\n",
            "[1, 2, 3, 4, 5, 'B', 'C', 'D', [0.5, 1.5]]\n"
          ]
        }
      ]
    },
    {
      "cell_type": "code",
      "source": [
        "mi_lista1 = []\n",
        "\n",
        "for i in range(1, 10):\n",
        "  mi_lista1.append(i)\n",
        "\n",
        "print(mi_lista1)"
      ],
      "metadata": {
        "id": "ui_R6BrtRonc",
        "outputId": "a87ad4ac-4210-4072-f0f7-61c8816bb38a",
        "colab": {
          "base_uri": "https://localhost:8080/"
        }
      },
      "execution_count": 19,
      "outputs": [
        {
          "output_type": "stream",
          "name": "stdout",
          "text": [
            "[1, 2, 3, 4, 5, 6, 7, 8, 9]\n"
          ]
        }
      ]
    }
  ]
}