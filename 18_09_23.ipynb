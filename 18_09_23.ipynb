{
  "nbformat": 4,
  "nbformat_minor": 0,
  "metadata": {
    "colab": {
      "provenance": [],
      "authorship_tag": "ABX9TyO1rnMSkk6CfmiAziObw6jI",
      "include_colab_link": true
    },
    "kernelspec": {
      "name": "python3",
      "display_name": "Python 3"
    },
    "language_info": {
      "name": "python"
    }
  },
  "cells": [
    {
      "cell_type": "markdown",
      "metadata": {
        "id": "view-in-github",
        "colab_type": "text"
      },
      "source": [
        "<a href=\"https://colab.research.google.com/github/carlosgutierrez15/ejercicios_Python_sec/blob/main/18_09_23.ipynb\" target=\"_parent\"><img src=\"https://colab.research.google.com/assets/colab-badge.svg\" alt=\"Open In Colab\"/></a>"
      ]
    },
    {
      "cell_type": "code",
      "execution_count": 9,
      "metadata": {
        "colab": {
          "base_uri": "https://localhost:8080/"
        },
        "id": "AC7WRYXvRV1I",
        "outputId": "60ca0a34-6cae-4976-8fea-7dc41d2bccbb"
      },
      "outputs": [
        {
          "output_type": "stream",
          "name": "stdout",
          "text": [
            "ingresa un numero: 5\n",
            "la suma de los numeros pares es:  6\n"
          ]
        }
      ],
      "source": [
        "num = int(input(\"ingresa un numero: \"))\n",
        "i = 1\n",
        "suma = 0\n",
        "while i <= num:\n",
        "  if i % 2 == 0:\n",
        "    suma = suma + i\n",
        "  i = i + 1\n",
        "\n",
        "print(\"la suma de los numeros pares es: \", suma)"
      ]
    },
    {
      "cell_type": "code",
      "source": [
        "num = int(input(\"ingrese un numero: \"))\n",
        "i = 0\n",
        "while i <= 10:\n",
        "\n",
        "  print(num, \" x \", i, \" = \", (num*i))\n",
        "  i = i + 1\n",
        ""
      ],
      "metadata": {
        "colab": {
          "base_uri": "https://localhost:8080/"
        },
        "id": "8hC3G8IqTEkX",
        "outputId": "72e2a0c9-bd24-453a-8561-92e3acc0cb39"
      },
      "execution_count": 17,
      "outputs": [
        {
          "output_type": "stream",
          "name": "stdout",
          "text": [
            "ingrese un numero: 4\n",
            "4  x  0  =  0\n",
            "4  x  1  =  4\n",
            "4  x  2  =  8\n",
            "4  x  3  =  12\n",
            "4  x  4  =  16\n",
            "4  x  5  =  20\n",
            "4  x  6  =  24\n",
            "4  x  7  =  28\n",
            "4  x  8  =  32\n",
            "4  x  9  =  36\n",
            "4  x  10  =  40\n"
          ]
        }
      ]
    },
    {
      "cell_type": "code",
      "source": [
        "base = int(input(\"ingrese un numero (Base) \"))\n",
        "exp = int(input(\"ingrese un exponente \"))\n",
        "\n",
        "if exp <= 0:\n",
        "  print(base, \" ^ \", exp, \" = \", (base*exp))\n",
        "i < 0\n",
        "resultado = base\n",
        "while i < exp:\n",
        "resultado = resultado * base\n",
        "i = i + 1\n",
        "\n",
        "print(resultado)\n",
        "\n",
        "if exp == 0:\n",
        "  print(1)\n",
        "else:\n",
        " i = 1\n",
        " resultado = base\n",
        " while i < exp:\n",
        "  resultado = resultado * base\n",
        "  i = i + 1\n",
        "\n",
        "  print(resultado)"
      ],
      "metadata": {
        "colab": {
          "base_uri": "https://localhost:8080/",
          "height": 140
        },
        "id": "CMKlHH8_Y0CX",
        "outputId": "b802e1bc-314e-4eda-c73b-19a027eba147"
      },
      "execution_count": 52,
      "outputs": [
        {
          "output_type": "error",
          "ename": "IndentationError",
          "evalue": "ignored",
          "traceback": [
            "\u001b[0;36m  File \u001b[0;32m\"<ipython-input-52-ccc717da436f>\"\u001b[0;36m, line \u001b[0;32m9\u001b[0m\n\u001b[0;31m    resultado = resultado * base\u001b[0m\n\u001b[0m    ^\u001b[0m\n\u001b[0;31mIndentationError\u001b[0m\u001b[0;31m:\u001b[0m expected an indented block after 'while' statement on line 8\n"
          ]
        }
      ]
    },
    {
      "cell_type": "code",
      "source": [],
      "metadata": {
        "id": "JkLCBzJ2dQV7"
      },
      "execution_count": 44,
      "outputs": []
    }
  ]
}