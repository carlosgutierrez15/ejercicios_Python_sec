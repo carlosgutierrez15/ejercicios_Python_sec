{
  "nbformat": 4,
  "nbformat_minor": 0,
  "metadata": {
    "colab": {
      "provenance": [],
      "authorship_tag": "ABX9TyPQPMlKha7j9JrqGCHhdxJ8",
      "include_colab_link": true
    },
    "kernelspec": {
      "name": "python3",
      "display_name": "Python 3"
    },
    "language_info": {
      "name": "python"
    }
  },
  "cells": [
    {
      "cell_type": "markdown",
      "metadata": {
        "id": "view-in-github",
        "colab_type": "text"
      },
      "source": [
        "<a href=\"https://colab.research.google.com/github/carlosgutierrez15/ejercicios_Python_sec/blob/main/18_09_23.ipynb\" target=\"_parent\"><img src=\"https://colab.research.google.com/assets/colab-badge.svg\" alt=\"Open In Colab\"/></a>"
      ]
    },
    {
      "cell_type": "code",
      "execution_count": null,
      "metadata": {
        "colab": {
          "base_uri": "https://localhost:8080/"
        },
        "id": "AC7WRYXvRV1I",
        "outputId": "60ca0a34-6cae-4976-8fea-7dc41d2bccbb"
      },
      "outputs": [
        {
          "output_type": "stream",
          "name": "stdout",
          "text": [
            "ingresa un numero: 5\n",
            "la suma de los numeros pares es:  6\n"
          ]
        }
      ],
      "source": [
        "num = int(input(\"ingresa un numero: \"))\n",
        "i = 1\n",
        "suma = 0\n",
        "while i <= num:\n",
        "  if i % 2 == 0:\n",
        "    suma = suma + i\n",
        "  i = i + 1\n",
        "\n",
        "print(\"la suma de los numeros pares es: \", suma)"
      ]
    },
    {
      "cell_type": "code",
      "source": [
        "num = int(input(\"ingrese un numero: \"))\n",
        "i = 0\n",
        "while i <= 10:\n",
        "\n",
        "  print(num, \" x \", i, \" = \", (num*i))\n",
        "  i = i + 1\n"
      ],
      "metadata": {
        "colab": {
          "base_uri": "https://localhost:8080/"
        },
        "id": "8hC3G8IqTEkX",
        "outputId": "72e2a0c9-bd24-453a-8561-92e3acc0cb39"
      },
      "execution_count": null,
      "outputs": [
        {
          "output_type": "stream",
          "name": "stdout",
          "text": [
            "ingrese un numero: 4\n",
            "4  x  0  =  0\n",
            "4  x  1  =  4\n",
            "4  x  2  =  8\n",
            "4  x  3  =  12\n",
            "4  x  4  =  16\n",
            "4  x  5  =  20\n",
            "4  x  6  =  24\n",
            "4  x  7  =  28\n",
            "4  x  8  =  32\n",
            "4  x  9  =  36\n",
            "4  x  10  =  40\n"
          ]
        }
      ]
    },
    {
      "cell_type": "code",
      "source": [
        "base = int(input(\"Ingresa la base: \"))\n",
        "exp = int(input(\"Ingresa el exponente: \"))\n",
        "\n",
        "resultado = 1\n",
        "i = 0\n",
        "\n",
        "while i < exp:\n",
        "    resultado *= base\n",
        "    i += 1\n",
        "\n",
        "print(\"El resultado de la potencia es:\", resultado)"
      ],
      "metadata": {
        "id": "JkLCBzJ2dQV7",
        "outputId": "00cfde92-7217-4bef-d6dc-a8c574115892",
        "colab": {
          "base_uri": "https://localhost:8080/"
        }
      },
      "execution_count": 4,
      "outputs": [
        {
          "output_type": "stream",
          "name": "stdout",
          "text": [
            "Ingresa la base: 4\n",
            "Ingresa el exponente: 2\n",
            "El resultado de la potencia es: 16\n"
          ]
        }
      ]
    },
    {
      "cell_type": "code",
      "source": [
        "\n",
        "suma = 0\n",
        "contador = 0\n",
        "\n",
        "while True:\n",
        "    numero = int(input(\"Ingresa un número (ingresa 0 para terminar): \"))\n",
        "\n",
        "    if numero == 0:\n",
        "        break\n",
        "\n",
        "    suma += numero\n",
        "    contador += 1\n",
        "\n",
        "if contador > 0:\n",
        "    promedio = suma / contador\n",
        "    print(\"El promedio de los números ingresados es:\", promedio)\n",
        "else:\n",
        "    print(\"No se ingresaron números.\")\n"
      ],
      "metadata": {
        "id": "u7M2rjP7raFn",
        "outputId": "d415966a-62c3-4bcf-e36a-c3a904ec37cb",
        "colab": {
          "base_uri": "https://localhost:8080/"
        }
      },
      "execution_count": 90,
      "outputs": [
        {
          "output_type": "stream",
          "name": "stdout",
          "text": [
            "Ingresa un número (ingresa 0 para terminar): 4\n",
            "Ingresa un número (ingresa 0 para terminar): 1\n",
            "Ingresa un número (ingresa 0 para terminar): 5\n",
            "Ingresa un número (ingresa 0 para terminar): 7\n",
            "Ingresa un número (ingresa 0 para terminar): 0\n",
            "El promedio de los números ingresados es: 4.25\n"
          ]
        }
      ]
    },
    {
      "cell_type": "code",
      "source": [
        "52\n",
        "\n",
        "suma = 0\n",
        "cont = 0\n",
        "promedio = 0\n",
        "\n",
        "while num == 0:\n",
        "  cont = cont + 1\n",
        "  num = int(input(\"Ingresa un número (ingresa 0 para terminar): \"))\n",
        "  sum = suma + num\n",
        "\n",
        "prom = suma / (cont - 1)\n",
        "print(\"El promedio es:\", promedio)"
      ],
      "metadata": {
        "id": "rP-YPHq3xRoO",
        "outputId": "f80210ce-e5ad-410c-b73e-099bad6552d1",
        "colab": {
          "base_uri": "https://localhost:8080/"
        }
      },
      "execution_count": 41,
      "outputs": [
        {
          "output_type": "stream",
          "name": "stdout",
          "text": [
            "El promedio es: 0\n"
          ]
        }
      ]
    },
    {
      "cell_type": "code",
      "source": [
        "import random\n",
        "\n",
        "num = random.randint(0, 10)\n",
        "print(num)\n",
        "\n",
        "numUsuario = 11\n",
        "\n",
        "while num != numUsuario:\n",
        "  numUsuario = int(input(\"ingrese un numero: entre 0 y 10: \"))\n",
        "  if numUsuario > num:\n",
        "    print(\"el numero ingresado esta por encima\")\n",
        "  elif numUsuario < num:\n",
        "    print(\"el numero ingresado esta por debajo\")\n",
        "  else:\n",
        "    print(\"adivinado\")\n",
        "\n"
      ],
      "metadata": {
        "id": "LAJT2LeozSWV",
        "outputId": "03b3a219-d4ad-4c13-cdf9-dee1bc0f5fd9",
        "colab": {
          "base_uri": "https://localhost:8080/"
        }
      },
      "execution_count": 88,
      "outputs": [
        {
          "output_type": "stream",
          "name": "stdout",
          "text": [
            "6\n",
            "ingrese un numero: entre 0 y 10: 4\n",
            "el numero ingresado esta por debajo\n",
            "ingrese un numero: entre 0 y 10: 7\n",
            "el numero ingresado esta por encima\n",
            "ingrese un numero: entre 0 y 10: 6\n",
            "adivinado\n"
          ]
        }
      ]
    },
    {
      "cell_type": "code",
      "source": [],
      "metadata": {
        "id": "UTtVlPXd2ATH"
      },
      "execution_count": null,
      "outputs": []
    }
  ]
}